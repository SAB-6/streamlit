{
 "cells": [
  {
   "cell_type": "code",
   "execution_count": 1,
   "metadata": {},
   "outputs": [],
   "source": [
    "import numpy as np"
   ]
  },
  {
   "cell_type": "code",
   "execution_count": 5,
   "metadata": {},
   "outputs": [
    {
     "data": {
      "text/plain": [
       "array([[ 0.50000596, -0.56013103, -0.50787089],\n",
       "       [ 0.9962072 ,  1.03360948, -0.50705214],\n",
       "       [ 0.09442003, -0.02404248, -3.16334972]])"
      ]
     },
     "execution_count": 5,
     "metadata": {},
     "output_type": "execute_result"
    }
   ],
   "source": [
    "np.random.randn(3,3)"
   ]
  }
 ],
 "metadata": {
  "interpreter": {
   "hash": "ccb760227889bf050a55f1ead2e7ef92b67f06654b8909cdffd808acb4f19bd1"
  },
  "kernelspec": {
   "display_name": "Python 3.10.2 ('streamlit-fFhZrbok')",
   "language": "python",
   "name": "python3"
  },
  "language_info": {
   "codemirror_mode": {
    "name": "ipython",
    "version": 3
   },
   "file_extension": ".py",
   "mimetype": "text/x-python",
   "name": "python",
   "nbconvert_exporter": "python",
   "pygments_lexer": "ipython3",
   "version": "3.10.2"
  },
  "orig_nbformat": 4
 },
 "nbformat": 4,
 "nbformat_minor": 2
}
